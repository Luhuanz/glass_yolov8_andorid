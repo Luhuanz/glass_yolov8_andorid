{
 "cells": [
  {
   "cell_type": "code",
   "execution_count": null,
   "id": "8aef132b-67ee-49c9-a242-cc9e28ef0a4d",
   "metadata": {},
   "outputs": [
    {
     "name": "stderr",
     "output_type": "stream",
     "text": [
      "Ultralytics YOLOv8.0.109 🚀 Python-3.8.10 torch-1.10.0+cu113 CPU\n",
      "YOLOv8l-seg summary (fused): 295 layers, 45913430 parameters, 0 gradients\n",
      "\n",
      "\u001b[34m\u001b[1mPyTorch:\u001b[0m starting from /root/autodl-tmp/project/ultralytics/runs/segment/train3/weights/best.pt with input shape (1, 3, 320, 320) BCHW and output shape(s) ((1, 98, 2100), (1, 32, 80, 80)) (88.0 MB)\n",
      "\n",
      "\u001b[34m\u001b[1mONNX:\u001b[0m starting export with onnx 1.12.0 opset 12...\n"
     ]
    }
   ],
   "source": [
    "from ultralytics import YOLO\n",
    "\n",
    "# Load a model\n",
    "#model = YOLO('yolov8n-seg.pt')  # load an official model\n",
    "model = YOLO('/root/autodl-tmp/project/ultralytics/runs/segment/train3/weights/best.pt')  # load a custom trained mode\n",
    "\n",
    "# Export the model\n",
    "model.export(format='onnx',simplify=True,opset=12,imgsz=320)\n"
   ]
  },
  {
   "cell_type": "code",
   "execution_count": 1,
   "id": "6ab65700-1d97-42a4-9bec-035595e929fd",
   "metadata": {},
   "outputs": [
    {
     "name": "stderr",
     "output_type": "stream",
     "text": [
      "Ultralytics YOLOv8.0.109 🚀 Python-3.8.10 torch-1.10.0+cu113 CPU\n",
      "YOLOv8s-seg summary (fused): 195 layers, 11780374 parameters, 0 gradients\n",
      "\n",
      "\u001b[34m\u001b[1mPyTorch:\u001b[0m starting from /root/autodl-tmp/project/ultralytics/runs/segment/train/weights/best.pt with input shape (1, 3, 320, 320) BCHW and output shape(s) ((1, 98, 2100), (1, 32, 80, 80)) (22.7 MB)\n",
      "\n",
      "\u001b[34m\u001b[1mONNX:\u001b[0m starting export with onnx 1.12.0 opset 12...\n",
      "\u001b[34m\u001b[1mONNX:\u001b[0m simplifying with onnxsim 0.4.17...\n",
      "\u001b[34m\u001b[1mONNX:\u001b[0m export success ✅ 14.8s, saved as /root/autodl-tmp/project/ultralytics/runs/segment/train/weights/best.onnx (45.0 MB)\n",
      "\n",
      "Export complete (16.3s)\n",
      "Results saved to \u001b[1m/root/autodl-tmp/project/ultralytics/runs/segment/train/weights\u001b[0m\n",
      "Predict:         yolo predict task=segment model=/root/autodl-tmp/project/ultralytics/runs/segment/train/weights/best.onnx imgsz=320 \n",
      "Validate:        yolo val task=segment model=/root/autodl-tmp/project/ultralytics/runs/segment/train/weights/best.onnx imgsz=320 data=/root/autodl-tmp/project/ultralytics/datasets/myyolo-seg.yaml \n",
      "Visualize:       https://netron.app\n"
     ]
    },
    {
     "data": {
      "text/plain": [
       "'/root/autodl-tmp/project/ultralytics/runs/segment/train/weights/best.onnx'"
      ]
     },
     "execution_count": 1,
     "metadata": {},
     "output_type": "execute_result"
    }
   ],
   "source": [
    "from ultralytics import YOLO\n",
    "\n",
    "# Load a model\n",
    "#model = YOLO('yolov8n-seg.pt')  # load an official model\n",
    "model = YOLO('/root/autodl-tmp/project/ultralytics/runs/segment/train/weights/best.pt')  # load a custom trained mode\n",
    "\n",
    "# Export the model\n",
    "model.export(format='onnx',simplify=True,opset=12,imgsz=320)\n"
   ]
  },
  {
   "cell_type": "code",
   "execution_count": 2,
   "id": "bb3e4b70-968a-4815-9764-4e561e4f42fb",
   "metadata": {},
   "outputs": [
    {
     "name": "stderr",
     "output_type": "stream",
     "text": [
      "Downloading https://github.com/ultralytics/assets/releases/download/v0.0.0/yolov8n-seg.pt to yolov8n-seg.pt...\n"
     ]
    },
    {
     "data": {
      "application/vnd.jupyter.widget-view+json": {
       "model_id": "2131b574c8fb4d58b7e2c9e3808cb2be",
       "version_major": 2,
       "version_minor": 0
      },
      "text/plain": [
       "  0%|          | 0.00/6.73M [00:00<?, ?B/s]"
      ]
     },
     "metadata": {},
     "output_type": "display_data"
    },
    {
     "name": "stderr",
     "output_type": "stream",
     "text": [
      "Ultralytics YOLOv8.0.109 🚀 Python-3.8.10 torch-1.10.0+cu113 CPU\n",
      "YOLOv8n-seg summary (fused): 195 layers, 3404320 parameters, 0 gradients\n",
      "\n",
      "\u001b[34m\u001b[1mPyTorch:\u001b[0m starting from yolov8n-seg.pt with input shape (1, 3, 320, 320) BCHW and output shape(s) ((1, 176, 2100), (1, 32, 80, 80)) (6.7 MB)\n",
      "\n",
      "\u001b[34m\u001b[1mONNX:\u001b[0m starting export with onnx 1.12.0 opset 12...\n",
      "\u001b[34m\u001b[1mONNX:\u001b[0m simplifying with onnxsim 0.4.17...\n",
      "\u001b[34m\u001b[1mONNX:\u001b[0m export success ✅ 13.5s, saved as yolov8n-seg.onnx (13.0 MB)\n",
      "\n",
      "Export complete (14.2s)\n",
      "Results saved to \u001b[1m/root/autodl-tmp/project/ultralytics\u001b[0m\n",
      "Predict:         yolo predict task=segment model=yolov8n-seg.onnx imgsz=320 \n",
      "Validate:        yolo val task=segment model=yolov8n-seg.onnx imgsz=320 data=coco.yaml \n",
      "Visualize:       https://netron.app\n"
     ]
    },
    {
     "data": {
      "text/plain": [
       "'yolov8n-seg.onnx'"
      ]
     },
     "execution_count": 2,
     "metadata": {},
     "output_type": "execute_result"
    }
   ],
   "source": [
    "from ultralytics import YOLO\n",
    "\n",
    "# Load a model\n",
    "model = YOLO('yolov8n-seg.pt')  # load an official model\n",
    "#model = YOLO('/root/autodl-tmp/project/ultralytics/runs/segment/train3/weights/best.pt')  # load a custom trained mode\n",
    "\n",
    "# Export the model\n",
    "model.export(format='onnx',simplify=True,opset=12,imgsz=320)"
   ]
  },
  {
   "cell_type": "code",
   "execution_count": 2,
   "id": "f95daf63-04f0-4318-bc83-d41d1dbe8971",
   "metadata": {},
   "outputs": [
    {
     "name": "stderr",
     "output_type": "stream",
     "text": [
      "Ultralytics YOLOv8.0.109 🚀 Python-3.8.10 torch-1.10.0+cu113 CPU\n",
      "YOLOv8s-seg summary (fused): 195 layers, 11780374 parameters, 0 gradients\n",
      "\n",
      "\u001b[34m\u001b[1mPyTorch:\u001b[0m starting from /root/autodl-tmp/project/ultralytics/runs/segment/train/weights/best.pt with input shape (1, 3, 320, 320) BCHW and output shape(s) ((1, 98, 2100), (1, 32, 80, 80)) (22.7 MB)\n",
      "\n",
      "\u001b[34m\u001b[1mONNX:\u001b[0m starting export with onnx 1.12.0 opset 12...\n",
      "\u001b[34m\u001b[1mONNX:\u001b[0m simplifying with onnxsim 0.4.17...\n",
      "\u001b[34m\u001b[1mONNX:\u001b[0m export success ✅ 9.2s, saved as /root/autodl-tmp/project/ultralytics/runs/segment/train/weights/best.onnx (45.0 MB)\n",
      "\n",
      "Export complete (10.5s)\n",
      "Results saved to \u001b[1m/root/autodl-tmp/project/ultralytics/runs/segment/train/weights\u001b[0m\n",
      "Predict:         yolo predict task=segment model=/root/autodl-tmp/project/ultralytics/runs/segment/train/weights/best.onnx imgsz=320 \n",
      "Validate:        yolo val task=segment model=/root/autodl-tmp/project/ultralytics/runs/segment/train/weights/best.onnx imgsz=320 data=/root/autodl-tmp/project/ultralytics/datasets/myyolo-seg.yaml \n",
      "Visualize:       https://netron.app\n"
     ]
    },
    {
     "data": {
      "text/plain": [
       "'/root/autodl-tmp/project/ultralytics/runs/segment/train/weights/best.onnx'"
      ]
     },
     "execution_count": 2,
     "metadata": {},
     "output_type": "execute_result"
    }
   ],
   "source": [
    "from ultralytics import YOLO\n",
    "\n",
    "# Load a model\n",
    "#model = YOLO('yolov8n-seg.pt')  # load an official model\n",
    "model = YOLO('/root/autodl-tmp/project/ultralytics/runs/segment/train/weights/best.pt')  # load a custom trained mode\n",
    "\n",
    "# Export the model\n",
    "model.export(format='onnx',simplify=True,opset=12,imgsz=320)\n"
   ]
  },
  {
   "cell_type": "code",
   "execution_count": null,
   "id": "05dc4fb9-891a-4ef2-b8a5-67789217ba9e",
   "metadata": {},
   "outputs": [],
   "source": []
  }
 ],
 "metadata": {
  "kernelspec": {
   "display_name": "Python 3 (ipykernel)",
   "language": "python",
   "name": "python3"
  },
  "language_info": {
   "codemirror_mode": {
    "name": "ipython",
    "version": 3
   },
   "file_extension": ".py",
   "mimetype": "text/x-python",
   "name": "python",
   "nbconvert_exporter": "python",
   "pygments_lexer": "ipython3",
   "version": "3.8.10"
  }
 },
 "nbformat": 4,
 "nbformat_minor": 5
}
